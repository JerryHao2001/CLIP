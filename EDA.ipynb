{
 "cells": [
  {
   "cell_type": "code",
   "execution_count": 26,
   "metadata": {},
   "outputs": [],
   "source": [
    "import tensorflow as tf\n",
    "\n",
    "# Load CIFAR-10 dataset\n",
    "(x_train, l_train), (x_test, l_test) = tf.keras.datasets.cifar10.load_data()\n",
    "\n",
    "# Normalizing the data (optional but recommended)\n"
   ]
  },
  {
   "cell_type": "code",
   "execution_count": 27,
   "metadata": {},
   "outputs": [
    {
     "name": "stdout",
     "output_type": "stream",
     "text": [
      "Number of Training Images: 50000\n",
      "Number of Test Images: 10000\n",
      "Image Dimensions: (32, 32)\n",
      "Number of Classes: 10\n"
     ]
    }
   ],
   "source": [
    "import numpy as np\n",
    "\n",
    "num_train_images = x_train.shape[0]\n",
    "num_test_images = x_test.shape[0]\n",
    "image_dimensions = x_train.shape[1:3]\n",
    "num_classes = len(np.unique(l_train))\n",
    "\n",
    "print(\"Number of Training Images:\", num_train_images)\n",
    "print(\"Number of Test Images:\", num_test_images)\n",
    "print(\"Image Dimensions:\", image_dimensions)\n",
    "print(\"Number of Classes:\", num_classes)\n"
   ]
  },
  {
   "cell_type": "code",
   "execution_count": 28,
   "metadata": {},
   "outputs": [],
   "source": [
    "# CODE FOR EXTRACTING tar.gz file\n",
    "import tarfile\n",
    "import os\n",
    "\n",
    "tar_file_path = 'caltech-101/101_ObjectCategories.tar.gz'\n",
    "extract_path = 'caltech-101/extracted'\n",
    "\n",
    "with tarfile.open(tar_file_path, 'r:gz') as tar:\n",
    "    tar.extractall(path=extract_path)"
   ]
  },
  {
   "cell_type": "code",
   "execution_count": 33,
   "metadata": {},
   "outputs": [
    {
     "data": {
      "text/html": [
       "<div>\n",
       "<style scoped>\n",
       "    .dataframe tbody tr th:only-of-type {\n",
       "        vertical-align: middle;\n",
       "    }\n",
       "\n",
       "    .dataframe tbody tr th {\n",
       "        vertical-align: top;\n",
       "    }\n",
       "\n",
       "    .dataframe thead th {\n",
       "        text-align: right;\n",
       "    }\n",
       "</style>\n",
       "<table border=\"1\" class=\"dataframe\">\n",
       "  <thead>\n",
       "    <tr style=\"text-align: right;\">\n",
       "      <th></th>\n",
       "      <th>Class</th>\n",
       "      <th>Image Count</th>\n",
       "    </tr>\n",
       "  </thead>\n",
       "  <tbody>\n",
       "    <tr>\n",
       "      <th>0</th>\n",
       "      <td>accordion</td>\n",
       "      <td>55</td>\n",
       "    </tr>\n",
       "    <tr>\n",
       "      <th>1</th>\n",
       "      <td>airplanes</td>\n",
       "      <td>800</td>\n",
       "    </tr>\n",
       "    <tr>\n",
       "      <th>2</th>\n",
       "      <td>anchor</td>\n",
       "      <td>42</td>\n",
       "    </tr>\n",
       "    <tr>\n",
       "      <th>3</th>\n",
       "      <td>ant</td>\n",
       "      <td>42</td>\n",
       "    </tr>\n",
       "    <tr>\n",
       "      <th>4</th>\n",
       "      <td>BACKGROUND_Google</td>\n",
       "      <td>468</td>\n",
       "    </tr>\n",
       "    <tr>\n",
       "      <th>...</th>\n",
       "      <td>...</td>\n",
       "      <td>...</td>\n",
       "    </tr>\n",
       "    <tr>\n",
       "      <th>97</th>\n",
       "      <td>wheelchair</td>\n",
       "      <td>59</td>\n",
       "    </tr>\n",
       "    <tr>\n",
       "      <th>98</th>\n",
       "      <td>wild_cat</td>\n",
       "      <td>34</td>\n",
       "    </tr>\n",
       "    <tr>\n",
       "      <th>99</th>\n",
       "      <td>windsor_chair</td>\n",
       "      <td>56</td>\n",
       "    </tr>\n",
       "    <tr>\n",
       "      <th>100</th>\n",
       "      <td>wrench</td>\n",
       "      <td>39</td>\n",
       "    </tr>\n",
       "    <tr>\n",
       "      <th>101</th>\n",
       "      <td>yin_yang</td>\n",
       "      <td>60</td>\n",
       "    </tr>\n",
       "  </tbody>\n",
       "</table>\n",
       "<p>102 rows × 2 columns</p>\n",
       "</div>"
      ],
      "text/plain": [
       "                 Class  Image Count\n",
       "0            accordion           55\n",
       "1            airplanes          800\n",
       "2               anchor           42\n",
       "3                  ant           42\n",
       "4    BACKGROUND_Google          468\n",
       "..                 ...          ...\n",
       "97          wheelchair           59\n",
       "98            wild_cat           34\n",
       "99       windsor_chair           56\n",
       "100             wrench           39\n",
       "101           yin_yang           60\n",
       "\n",
       "[102 rows x 2 columns]"
      ]
     },
     "execution_count": 33,
     "metadata": {},
     "output_type": "execute_result"
    }
   ],
   "source": [
    "import pandas as pd\n",
    "dataset_path = 'caltech-101/extracted/101_ObjectCategories/'\n",
    "class_image_counts = {}\n",
    "for class_name in os.listdir(dataset_path):\n",
    "    class_path = os.path.join(dataset_path, class_name)\n",
    "    image_count = len([file for file in os.listdir(class_path) if os.path.isfile(os.path.join(class_path, file))])\n",
    "    class_image_counts[class_name] = image_count\n",
    "\n",
    "df = pd.DataFrame(list(class_image_counts.items()), columns=['Class', 'Image Count'])\n",
    "df\n"
   ]
  },
  {
   "cell_type": "code",
   "execution_count": 35,
   "metadata": {},
   "outputs": [],
   "source": [
    "import torchvision.datasets as datasets\n"
   ]
  },
  {
   "cell_type": "code",
   "execution_count": 36,
   "metadata": {},
   "outputs": [
    {
     "name": "stdout",
     "output_type": "stream",
     "text": [
      "Using downloaded and verified file: ./data\\train_32x32.mat\n",
      "Using downloaded and verified file: ./data\\test_32x32.mat\n"
     ]
    }
   ],
   "source": [
    "svhn_train,svhn_test = datasets.SVHN(root='./data', split='train', download=True) , datasets.SVHN(root='./data', split='test', download=True)\n",
    "\n",
    "# svhn_extra = datasets.SVHN(root='./data', split='extra', download=True)"
   ]
  },
  {
   "cell_type": "code",
   "execution_count": 31,
   "metadata": {},
   "outputs": [
    {
     "name": "stdout",
     "output_type": "stream",
     "text": [
      "Number of Classes: 10\n"
     ]
    }
   ],
   "source": [
    "import torch\n",
    "labels_tensor = torch.tensor(svhn_train.labels)\n",
    "num_classes = len(torch.unique(labels_tensor))\n",
    "print(f\"Number of Classes: {num_classes}\")\n"
   ]
  },
  {
   "cell_type": "code",
   "execution_count": 32,
   "metadata": {},
   "outputs": [
    {
     "name": "stdout",
     "output_type": "stream",
     "text": [
      "Number of Training Images: 73257.\n",
      "Number of Testing Images: 26032.\n"
     ]
    }
   ],
   "source": [
    "print(f\"Number of Training Images: {len(svhn_train)}.\\nNumber of Testing Images: {len(svhn_test)}.\")\n",
    "# print(f\" Number of Extra Images: {len(svhn_extra)}.\")"
   ]
  }
 ],
 "metadata": {
  "kernelspec": {
   "display_name": "deeplearning",
   "language": "python",
   "name": "python3"
  },
  "language_info": {
   "codemirror_mode": {
    "name": "ipython",
    "version": 3
   },
   "file_extension": ".py",
   "mimetype": "text/x-python",
   "name": "python",
   "nbconvert_exporter": "python",
   "pygments_lexer": "ipython3",
   "version": "3.9.16"
  }
 },
 "nbformat": 4,
 "nbformat_minor": 2
}
